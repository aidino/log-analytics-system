{
 "cells": [
  {
   "cell_type": "markdown",
   "metadata": {},
   "source": [
    "# Training state for drain3"
   ]
  },
  {
   "cell_type": "code",
   "execution_count": 1,
   "metadata": {},
   "outputs": [
    {
     "name": "stderr",
     "output_type": "stream",
     "text": [
      "Setting default log level to \"WARN\".\n",
      "To adjust logging level use sc.setLogLevel(newLevel). For SparkR, use setLogLevel(newLevel).\n",
      "23/08/17 12:00:07 WARN NativeCodeLoader: Unable to load native-hadoop library for your platform... using builtin-java classes where applicable\n",
      "23/08/17 12:00:07 WARN Utils: Service 'SparkUI' could not bind on port 4040. Attempting port 4041.\n"
     ]
    }
   ],
   "source": [
    "from pyspark.sql import SparkSession\n",
    "from pyspark.sql.functions import udf\n",
    "from pyspark.sql.types import StructType,StructField,Row, StringType\n",
    "\n",
    "spark = SparkSession\\\n",
    "    .builder\\\n",
    "    .appName(\"training_drain3\")\\\n",
    "    .config(\"spark.sql.legacy.timeParserPolicy\", \"LEGACY\")\\\n",
    "    .getOrCreate()"
   ]
  },
  {
   "cell_type": "markdown",
   "metadata": {},
   "source": [
    "### Load training data"
   ]
  },
  {
   "cell_type": "code",
   "execution_count": 2,
   "metadata": {},
   "outputs": [
    {
     "name": "stdout",
     "output_type": "stream",
     "text": [
      "root\n",
      " |-- value: string (nullable = true)\n",
      "\n",
      "+---------------------------------------------------------------------------------------------------------------------------------------------------+\n",
      "|value                                                                                                                                              |\n",
      "+---------------------------------------------------------------------------------------------------------------------------------------------------+\n",
      "|- 1117838570 2005.06.03 R02-M1-N0-C:J12-U11 2005-06-03-15.42.50.363779 R02-M1-N0-C:J12-U11 RAS KERNEL INFO instruction cache parity error corrected|\n",
      "|- 1117838570 2005.06.03 R02-M1-N0-C:J12-U11 2005-06-03-15.42.50.527847 R02-M1-N0-C:J12-U11 RAS KERNEL INFO instruction cache parity error corrected|\n",
      "|- 1117838570 2005.06.03 R02-M1-N0-C:J12-U11 2005-06-03-15.42.50.675872 R02-M1-N0-C:J12-U11 RAS KERNEL INFO instruction cache parity error corrected|\n",
      "|- 1117838570 2005.06.03 R02-M1-N0-C:J12-U11 2005-06-03-15.42.50.823719 R02-M1-N0-C:J12-U11 RAS KERNEL INFO instruction cache parity error corrected|\n",
      "|- 1117838570 2005.06.03 R02-M1-N0-C:J12-U11 2005-06-03-15.42.50.982731 R02-M1-N0-C:J12-U11 RAS KERNEL INFO instruction cache parity error corrected|\n",
      "|- 1117838571 2005.06.03 R02-M1-N0-C:J12-U11 2005-06-03-15.42.51.131467 R02-M1-N0-C:J12-U11 RAS KERNEL INFO instruction cache parity error corrected|\n",
      "|- 1117838571 2005.06.03 R02-M1-N0-C:J12-U11 2005-06-03-15.42.51.293532 R02-M1-N0-C:J12-U11 RAS KERNEL INFO instruction cache parity error corrected|\n",
      "|- 1117838571 2005.06.03 R02-M1-N0-C:J12-U11 2005-06-03-15.42.51.428563 R02-M1-N0-C:J12-U11 RAS KERNEL INFO instruction cache parity error corrected|\n",
      "|- 1117838571 2005.06.03 R02-M1-N0-C:J12-U11 2005-06-03-15.42.51.601412 R02-M1-N0-C:J12-U11 RAS KERNEL INFO instruction cache parity error corrected|\n",
      "|- 1117838571 2005.06.03 R02-M1-N0-C:J12-U11 2005-06-03-15.42.51.749199 R02-M1-N0-C:J12-U11 RAS KERNEL INFO instruction cache parity error corrected|\n",
      "|- 1117838571 2005.06.03 R02-M1-N0-C:J12-U11 2005-06-03-15.42.51.885834 R02-M1-N0-C:J12-U11 RAS KERNEL INFO instruction cache parity error corrected|\n",
      "|- 1117838572 2005.06.03 R02-M1-N0-C:J12-U11 2005-06-03-15.42.52.041388 R02-M1-N0-C:J12-U11 RAS KERNEL INFO instruction cache parity error corrected|\n",
      "|- 1117838572 2005.06.03 R02-M1-N0-C:J12-U11 2005-06-03-15.42.52.199063 R02-M1-N0-C:J12-U11 RAS KERNEL INFO instruction cache parity error corrected|\n",
      "|- 1117838572 2005.06.03 R02-M1-N0-C:J12-U11 2005-06-03-15.42.52.345821 R02-M1-N0-C:J12-U11 RAS KERNEL INFO instruction cache parity error corrected|\n",
      "|- 1117838572 2005.06.03 R02-M1-N0-C:J12-U11 2005-06-03-15.42.52.493353 R02-M1-N0-C:J12-U11 RAS KERNEL INFO instruction cache parity error corrected|\n",
      "|- 1117838572 2005.06.03 R02-M1-N0-C:J12-U11 2005-06-03-15.42.52.638135 R02-M1-N0-C:J12-U11 RAS KERNEL INFO instruction cache parity error corrected|\n",
      "|- 1117838572 2005.06.03 R02-M1-N0-C:J12-U11 2005-06-03-15.42.52.807927 R02-M1-N0-C:J12-U11 RAS KERNEL INFO instruction cache parity error corrected|\n",
      "|- 1117838572 2005.06.03 R02-M1-N0-C:J12-U11 2005-06-03-15.42.52.951717 R02-M1-N0-C:J12-U11 RAS KERNEL INFO instruction cache parity error corrected|\n",
      "|- 1117838573 2005.06.03 R02-M1-N0-C:J12-U11 2005-06-03-15.42.53.125780 R02-M1-N0-C:J12-U11 RAS KERNEL INFO instruction cache parity error corrected|\n",
      "|- 1117838573 2005.06.03 R02-M1-N0-C:J12-U11 2005-06-03-15.42.53.276129 R02-M1-N0-C:J12-U11 RAS KERNEL INFO instruction cache parity error corrected|\n",
      "+---------------------------------------------------------------------------------------------------------------------------------------------------+\n",
      "only showing top 20 rows\n",
      "\n"
     ]
    }
   ],
   "source": [
    "log_file_path= \"../data/raw/BGL_train.log\"\n",
    "\n",
    "base_df = spark.read.text(log_file_path)\n",
    "# Let's look at the schema\n",
    "base_df.printSchema()\n",
    "base_df.show(truncate=False)\n"
   ]
  },
  {
   "cell_type": "markdown",
   "metadata": {},
   "source": [
    "### split "
   ]
  },
  {
   "cell_type": "code",
   "execution_count": 3,
   "metadata": {},
   "outputs": [
    {
     "name": "stdout",
     "output_type": "stream",
     "text": [
      "+-----+----------+----------+---------------------------------------------+\n",
      "|label|timestamp |date      |content                                      |\n",
      "+-----+----------+----------+---------------------------------------------+\n",
      "|-    |1117838570|2005.06.03|INFO instruction cache parity error corrected|\n",
      "|-    |1117838570|2005.06.03|INFO instruction cache parity error corrected|\n",
      "|-    |1117838570|2005.06.03|INFO instruction cache parity error corrected|\n",
      "|-    |1117838570|2005.06.03|INFO instruction cache parity error corrected|\n",
      "|-    |1117838570|2005.06.03|INFO instruction cache parity error corrected|\n",
      "+-----+----------+----------+---------------------------------------------+\n",
      "only showing top 5 rows\n",
      "\n"
     ]
    }
   ],
   "source": [
    "def split_line(log_line):\n",
    "    log_line = log_line.rstrip()\n",
    "    line_in_arr = log_line.split(' ')\n",
    "    label = line_in_arr[0]\n",
    "    timestamp = line_in_arr[1]\n",
    "    date = line_in_arr[2]\n",
    "    content = ' '.join(line_in_arr[8:])\n",
    "\n",
    "    return Row('label', 'timestamp', 'date', 'content')(label, timestamp, date, content)\n",
    "\n",
    "schema = StructType([\n",
    "    StructField('label', StringType(), True),\n",
    "    StructField('timestamp', StringType(), True),\n",
    "    StructField('date', StringType(), True),\n",
    "    StructField('content', StringType(), True)\n",
    "])\n",
    "\n",
    "udf_split = udf(split_line, schema)\n",
    "\n",
    "processed_df = base_df\\\n",
    "    .withColumn(\"parsed\", udf_split(base_df[\"value\"]))\\\n",
    "    .select(\"parsed.*\")\n",
    "\n",
    "processed_df.show(5, truncate=False)"
   ]
  },
  {
   "cell_type": "markdown",
   "metadata": {},
   "source": [
    "### train drain3"
   ]
  },
  {
   "cell_type": "code",
   "execution_count": 4,
   "metadata": {},
   "outputs": [
    {
     "name": "stdout",
     "output_type": "stream",
     "text": [
      "total log: 673599\n"
     ]
    },
    {
     "name": "stderr",
     "output_type": "stream",
     "text": [
      "                                                                                \r"
     ]
    },
    {
     "name": "stdout",
     "output_type": "stream",
     "text": [
      "success log: 454128\n",
      "error log: 219471\n"
     ]
    }
   ],
   "source": [
    "from drain3 import TemplateMiner\n",
    "from drain3.template_miner_config import TemplateMinerConfig\n",
    "from drain3.file_persistence import FilePersistence\n",
    "\n",
    "persistence = FilePersistence(\"drain3_state_bgl.bin\")\n",
    "config = TemplateMinerConfig()\n",
    "config.load(\"drain3.ini\")\n",
    "config.profiling_enabled = False\n",
    "template_miner = TemplateMiner(persistence, config)\n",
    "\n",
    "# filter success logs with label == \"-\"\n",
    "success_logs = processed_df.filter(processed_df.label == \"-\")\n",
    "error_logs = processed_df.filter(processed_df.label != \"-\")\n",
    "\n",
    "print(f\"total log: {processed_df.count()}\")\n",
    "print(f\"success log: {success_logs.count()}\")\n",
    "print(f\"error log: {error_logs.count()}\")"
   ]
  },
  {
   "cell_type": "code",
   "execution_count": 5,
   "metadata": {},
   "outputs": [
    {
     "name": "stdout",
     "output_type": "stream",
     "text": [
      "Number of templates:  176\n"
     ]
    }
   ],
   "source": [
    "for row in success_logs.collect():\n",
    "    template_miner.add_log_message(row[\"content\"])\n",
    "\n",
    "print(\"Number of templates: \", len(template_miner.drain.clusters))"
   ]
  },
  {
   "cell_type": "code",
   "execution_count": 6,
   "metadata": {},
   "outputs": [
    {
     "name": "stderr",
     "output_type": "stream",
     "text": [
      "                                                                                \r"
     ]
    },
    {
     "name": "stdout",
     "output_type": "stream",
     "text": [
      "Correct predictions:  100.0 % ( 219471 / 219471 )\n"
     ]
    }
   ],
   "source": [
    "correct_predictions = 0\n",
    "for row in error_logs.collect():\n",
    "    cluster = template_miner.match(row[\"content\"])\n",
    "    if cluster is None:\n",
    "        correct_predictions += 1\n",
    "\n",
    "print(\"Correct predictions: \", correct_predictions/error_logs.count()*100, \"% (\", correct_predictions, \"/\", error_logs.count(), \")\")     "
   ]
  },
  {
   "cell_type": "code",
   "execution_count": null,
   "metadata": {},
   "outputs": [],
   "source": []
  }
 ],
 "metadata": {
  "kernelspec": {
   "display_name": "data-engineering",
   "language": "python",
   "name": "python3"
  },
  "language_info": {
   "codemirror_mode": {
    "name": "ipython",
    "version": 3
   },
   "file_extension": ".py",
   "mimetype": "text/x-python",
   "name": "python",
   "nbconvert_exporter": "python",
   "pygments_lexer": "ipython3",
   "version": "3.9.17"
  },
  "orig_nbformat": 4
 },
 "nbformat": 4,
 "nbformat_minor": 2
}
